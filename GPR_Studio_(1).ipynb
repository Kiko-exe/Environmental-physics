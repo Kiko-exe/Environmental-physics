{
  "cells": [
    {
      "cell_type": "markdown",
      "metadata": {
        "id": "view-in-github",
        "colab_type": "text"
      },
      "source": [
        "<a href=\"https://colab.research.google.com/github/Kiko-exe/Environmental-physics/blob/main/GPR_Studio_(1).ipynb\" target=\"_parent\"><img src=\"https://colab.research.google.com/assets/colab-badge.svg\" alt=\"Open In Colab\"/></a>"
      ]
    },
    {
      "cell_type": "markdown",
      "id": "826a9c77",
      "metadata": {
        "id": "826a9c77"
      },
      "source": [
        "# **GROUND PENETRATING RADAR STUDIO:**\n",
        "\n",
        "In this STUDIO you will revisit your gained knowledge on reading data and plotting on python using colab.  \n",
        "\n",
        "You will interpret a GPR 2D section, digitize a reflector, convert it to depth and plot it. You will interpret what geology can explain the observed layers.\n",
        "\n",
        "The exercise entitles the following steps:\n",
        "\n",
        "\n",
        "1.   I have already made the interpretation of two reflector in a GPR profile (yellow and cyan lines in the **GPR_PROFILE.png** file). You will need to digitize those reflectors (distance and time) and then read them in this code.\n",
        "\n",
        "2.   To digitize use the following online app (https://plotdigitizer.com/app). You will need to first define the locations of your X1, X2 and Y1, Y2 reference points and set the values. Then digitize the shallowest reflector (layer), and save as a csv file. Repeat for the second reflector.\n",
        "\n",
        "(**IMPORTANT NOTE**: when setting the limits for Y, include the nano compoment, that is 10$^{-9}$. Also, try to digitize both layers similarly, say every 10 m so that you have the same number of data points.)\n",
        "\n",
        "3. Import your csv data following the command:\n",
        "\n",
        "```\n",
        "# file = pd.read_csv('YOUR_FILE_NAME.csv')\n",
        "```\n",
        "\n",
        "As you have two csv files to import, you need to have two names for each of the files.\n",
        "\n",
        "4. Rename your variables (your x and y) so that you have the x variable for layer 1 and that for layer 2, and similarly for the y variable. For my example, call distance1=file['x'].\n",
        "\n",
        "5. Estimate the GPR EM wave speed knowing that layer 1 has a dielectric constant $𝛋_{layer1}$ of 20 and $𝛋_{layer2}$ is 4.\n",
        "\n",
        "6. Estimate the depth to each layer and plot distance vs depth for layer 1 and layer 2 (two lines) on a single plot.\n",
        "\n",
        "7. Perform a geological interpretation of the profile.\n",
        "\n",
        "Upload on CANVAS your ipynb code.\n",
        "\n",
        "\n",
        "\n",
        "\n",
        "\n"
      ]
    },
    {
      "cell_type": "markdown",
      "source": [
        "# Reading your data"
      ],
      "metadata": {
        "id": "V0B7Z1sVZg4o"
      },
      "id": "V0B7Z1sVZg4o"
    },
    {
      "cell_type": "code",
      "execution_count": null,
      "id": "5e94dcbb",
      "metadata": {
        "id": "5e94dcbb",
        "colab": {
          "base_uri": "https://localhost:8080/"
        },
        "outputId": "340b913b-1a4a-4ee4-fb7e-00cdadc8be42"
      },
      "outputs": [
        {
          "output_type": "stream",
          "name": "stdout",
          "text": [
            "             x             y\n",
            "0     0.411091  1.800000e-08\n",
            "1     7.308523  1.510000e-08\n",
            "2    16.119001  1.900000e-08\n",
            "3    18.371592  1.760000e-08\n",
            "4    35.850158  3.060000e-08\n",
            "5    40.443145  3.340000e-08\n",
            "6    47.261574  2.350000e-08\n",
            "7    62.536269  3.130000e-08\n",
            "8    69.207570  2.910000e-08\n",
            "9    81.487291  2.940000e-08\n",
            "10   87.217773  3.590000e-08\n",
            "11  102.221057  3.570000e-08\n",
            "12  111.462928  7.980000e-09\n",
            "13  118.776141  9.310000e-09\n",
            "             x             y\n",
            "0     0.089937  4.440000e-08\n",
            "1    10.620584  6.210000e-08\n",
            "2    14.284491  5.840000e-08\n",
            "3    23.057902  6.460000e-08\n",
            "4    33.139656  7.640000e-08\n",
            "5    37.029226  7.100000e-08\n",
            "6    49.845995  8.770000e-08\n",
            "7    52.815577  9.910000e-08\n",
            "8    60.891076  1.020000e-07\n",
            "9    67.652413  1.090000e-07\n",
            "10   79.379577  1.010000e-07\n",
            "11   90.312271  8.370000e-08\n",
            "12   99.343228  7.470000e-08\n",
            "13  109.586258  6.850000e-08\n",
            "14  114.714248  5.930000e-08\n",
            "15  120.147869  4.790000e-08\n"
          ]
        }
      ],
      "source": [
        "import pandas as pd\n",
        "import matplotlib.pyplot as plt\n",
        "import numpy as np\n",
        "from pylab import *\n",
        "\n",
        "file1 = pd.read_csv('blue.csv')\n",
        "file2 = pd.read_csv('yellow.csv')\n",
        "\n",
        "print(file1)\n",
        "print(file2)\n",
        "# Type here the command to read your two csv files. Print them so you can see how they look\n"
      ]
    },
    {
      "cell_type": "markdown",
      "id": "6381b5b4",
      "metadata": {
        "id": "6381b5b4"
      },
      "source": [
        "# Rename your files.\n",
        "\n",
        " Remember, this is so you don't have to drag the *file['..']* name in the calculation and plotting.\n"
      ]
    },
    {
      "cell_type": "code",
      "source": [
        "## Rename your files here following the example below for layer 1, just like you did for resistivity\n",
        "## distance1=file['x']\n",
        "## The diziting code for some reason gives you a SPACE before the 'y', so you need to have it within the single quotes! See below\n",
        "\n",
        "distance1=file1['x']\n",
        "twtt1=file1['y']\n",
        "distance2=file2['x']\n",
        "twtt2=file2[' y']\n",
        "\n",
        "print(distance1)\n",
        "print(twtt1)\n",
        "print(distance2)\n",
        "print(twtt2)\n"
      ],
      "metadata": {
        "id": "ckGVNDeLXlrY",
        "colab": {
          "base_uri": "https://localhost:8080/"
        },
        "outputId": "4db04a39-de57-4461-cd8d-24a44e3a566b"
      },
      "id": "ckGVNDeLXlrY",
      "execution_count": null,
      "outputs": [
        {
          "output_type": "stream",
          "name": "stdout",
          "text": [
            "0       0.411091\n",
            "1       7.308523\n",
            "2      16.119001\n",
            "3      18.371592\n",
            "4      35.850158\n",
            "5      40.443145\n",
            "6      47.261574\n",
            "7      62.536269\n",
            "8      69.207570\n",
            "9      81.487291\n",
            "10     87.217773\n",
            "11    102.221057\n",
            "12    111.462928\n",
            "13    118.776141\n",
            "Name: x, dtype: float64\n",
            "0     1.800000e-08\n",
            "1     1.510000e-08\n",
            "2     1.900000e-08\n",
            "3     1.760000e-08\n",
            "4     3.060000e-08\n",
            "5     3.340000e-08\n",
            "6     2.350000e-08\n",
            "7     3.130000e-08\n",
            "8     2.910000e-08\n",
            "9     2.940000e-08\n",
            "10    3.590000e-08\n",
            "11    3.570000e-08\n",
            "12    7.980000e-09\n",
            "13    9.310000e-09\n",
            "Name: y, dtype: float64\n",
            "0       0.089937\n",
            "1      10.620584\n",
            "2      14.284491\n",
            "3      23.057902\n",
            "4      33.139656\n",
            "5      37.029226\n",
            "6      49.845995\n",
            "7      52.815577\n",
            "8      60.891076\n",
            "9      67.652413\n",
            "10     79.379577\n",
            "11     90.312271\n",
            "12     99.343228\n",
            "13    109.586258\n",
            "14    114.714248\n",
            "15    120.147869\n",
            "Name: x, dtype: float64\n",
            "0     4.440000e-08\n",
            "1     6.210000e-08\n",
            "2     5.840000e-08\n",
            "3     6.460000e-08\n",
            "4     7.640000e-08\n",
            "5     7.100000e-08\n",
            "6     8.770000e-08\n",
            "7     9.910000e-08\n",
            "8     1.020000e-07\n",
            "9     1.090000e-07\n",
            "10    1.010000e-07\n",
            "11    8.370000e-08\n",
            "12    7.470000e-08\n",
            "13    6.850000e-08\n",
            "14    5.930000e-08\n",
            "15    4.790000e-08\n",
            "Name:  y, dtype: float64\n"
          ]
        }
      ]
    },
    {
      "cell_type": "markdown",
      "source": [
        "# Calculate the EM velocity.\n",
        "Remember from the lecture, velocity (*V*) is estimated as:\n",
        "\n",
        "$V=\\frac{c}{\\sqrt{𝛋}}$\n",
        "\n",
        "where *c* is the speed of light and $𝛋$ is the dielectric constant of the layer.\n",
        "*c*= 3 x 10$^8$ m/s\n"
      ],
      "metadata": {
        "id": "X8gnr2ovXmX_"
      },
      "id": "X8gnr2ovXmX_"
    },
    {
      "cell_type": "code",
      "source": [
        "## Type here the equation for velocity of layer 1 and layer 2. I help you by defining the speed of ligth c below\n",
        "## The square root in python in np.sqrt()\n",
        "\n",
        "c=3e8\n",
        "v1 = 3e8 / np.sqrt(20)\n",
        "v2 = 3e8 / np.sqrt(4)\n",
        "\n",
        "print(v1)\n",
        "print(v2)"
      ],
      "metadata": {
        "id": "Bf4PAKi-K3JI",
        "colab": {
          "base_uri": "https://localhost:8080/"
        },
        "outputId": "336a8724-4182-42a6-cbb4-c98de6b2b05c"
      },
      "id": "Bf4PAKi-K3JI",
      "execution_count": null,
      "outputs": [
        {
          "output_type": "stream",
          "name": "stdout",
          "text": [
            "67082039.324993685\n",
            "150000000.0\n"
          ]
        }
      ]
    },
    {
      "cell_type": "markdown",
      "source": [
        "#Calculate the depth to the layer\n"
      ],
      "metadata": {
        "id": "UfCQL3ruOklr"
      },
      "id": "UfCQL3ruOklr"
    },
    {
      "cell_type": "code",
      "source": [
        "## Type here an equations to estimate the depth to each layer.\n",
        "d1 = v1 * (twtt1/2)\n",
        "l = v2 * ((twtt2 - twtt1)/2)\n",
        "d2 = l + d1\n",
        "print(d1)\n",
        "print(d2)"
      ],
      "metadata": {
        "id": "wmmZFAZ8OrU4",
        "colab": {
          "base_uri": "https://localhost:8080/"
        },
        "outputId": "2f3cfb74-1695-48e9-87f9-ae4e180bb660"
      },
      "id": "wmmZFAZ8OrU4",
      "execution_count": null,
      "outputs": [
        {
          "output_type": "stream",
          "name": "stdout",
          "text": [
            "0     0.603738\n",
            "1     0.506469\n",
            "2     0.637279\n",
            "3     0.590322\n",
            "4     1.026355\n",
            "5     1.120270\n",
            "6     0.788214\n",
            "7     1.049834\n",
            "8     0.976044\n",
            "9     0.986106\n",
            "10    1.204123\n",
            "11    1.197414\n",
            "12    0.267657\n",
            "13    0.312267\n",
            "Name: y, dtype: float64\n",
            "0     2.583738\n",
            "1     4.031469\n",
            "2     3.592279\n",
            "3     4.115322\n",
            "4     4.461355\n",
            "5     3.940270\n",
            "6     5.603214\n",
            "7     6.134834\n",
            "8     6.443544\n",
            "9     6.956106\n",
            "10    6.086623\n",
            "11    4.797414\n",
            "12    5.271657\n",
            "13    4.751517\n",
            "14         NaN\n",
            "15         NaN\n",
            "dtype: float64\n"
          ]
        }
      ]
    },
    {
      "cell_type": "markdown",
      "source": [
        "#Plot depth of your layers with distance linearly.\n",
        "Have the commands to plot layer 1 and 2 follow each other:\n",
        "\n",
        "\n",
        "```\n",
        "# plt.plot(..., ...,'-k') For layer 1\n",
        "# plt.plot(..., ...,'-k') For layer 2\n",
        "```\n",
        "\n",
        "Add labels, colours, legend.\n",
        "\n"
      ],
      "metadata": {
        "id": "KwIeFsDQPiPI"
      },
      "id": "KwIeFsDQPiPI"
    },
    {
      "cell_type": "code",
      "execution_count": 1,
      "id": "0c04a07d",
      "metadata": {
        "id": "0c04a07d",
        "colab": {
          "base_uri": "https://localhost:8080/",
          "height": 216
        },
        "outputId": "3783099f-2758-4f80-80e6-a2d1f28de692"
      },
      "outputs": [
        {
          "output_type": "error",
          "ename": "NameError",
          "evalue": "name 'plt' is not defined",
          "traceback": [
            "\u001b[0;31m---------------------------------------------------------------------------\u001b[0m",
            "\u001b[0;31mNameError\u001b[0m                                 Traceback (most recent call last)",
            "\u001b[0;32m/tmp/ipython-input-817219160.py\u001b[0m in \u001b[0;36m<cell line: 0>\u001b[0;34m()\u001b[0m\n\u001b[0;32m----> 1\u001b[0;31m \u001b[0mplt\u001b[0m\u001b[0;34m.\u001b[0m\u001b[0mplot\u001b[0m\u001b[0;34m(\u001b[0m\u001b[0mdistance1\u001b[0m\u001b[0;34m,\u001b[0m \u001b[0md1\u001b[0m\u001b[0;34m,\u001b[0m\u001b[0;34m'-k'\u001b[0m\u001b[0;34m,\u001b[0m \u001b[0mcolor\u001b[0m\u001b[0;34m=\u001b[0m\u001b[0;34m'blue'\u001b[0m\u001b[0;34m)\u001b[0m \u001b[0;31m# For layer 1\u001b[0m\u001b[0;34m\u001b[0m\u001b[0;34m\u001b[0m\u001b[0m\n\u001b[0m\u001b[1;32m      2\u001b[0m \u001b[0mplt\u001b[0m\u001b[0;34m.\u001b[0m\u001b[0mplot\u001b[0m\u001b[0;34m(\u001b[0m\u001b[0mdistance2\u001b[0m\u001b[0;34m,\u001b[0m \u001b[0md2\u001b[0m\u001b[0;34m,\u001b[0m\u001b[0;34m'-k'\u001b[0m\u001b[0;34m,\u001b[0m \u001b[0mcolor\u001b[0m\u001b[0;34m=\u001b[0m\u001b[0;34m'yellow'\u001b[0m\u001b[0;34m)\u001b[0m \u001b[0;31m# For layer 2\u001b[0m\u001b[0;34m\u001b[0m\u001b[0;34m\u001b[0m\u001b[0m\n\u001b[1;32m      3\u001b[0m \u001b[0;34m\u001b[0m\u001b[0m\n\u001b[1;32m      4\u001b[0m \u001b[0mgca\u001b[0m\u001b[0;34m(\u001b[0m\u001b[0;34m)\u001b[0m\u001b[0;34m.\u001b[0m\u001b[0minvert_yaxis\u001b[0m\u001b[0;34m(\u001b[0m\u001b[0;34m)\u001b[0m \u001b[0;31m#reverse the y axis\u001b[0m\u001b[0;34m\u001b[0m\u001b[0;34m\u001b[0m\u001b[0m\n\u001b[1;32m      5\u001b[0m \u001b[0mplt\u001b[0m\u001b[0;34m.\u001b[0m\u001b[0mtitle\u001b[0m\u001b[0;34m(\u001b[0m\u001b[0;34m'depth of two layers with distance linearly'\u001b[0m\u001b[0;34m)\u001b[0m\u001b[0;34m\u001b[0m\u001b[0;34m\u001b[0m\u001b[0m\n",
            "\u001b[0;31mNameError\u001b[0m: name 'plt' is not defined"
          ]
        }
      ],
      "source": [
        "plt.plot(distance1, d1,'-k', color='blue') # For layer 1\n",
        "plt.plot(distance2, d2,'-k', color='yellow') # For layer 2\n",
        "\n",
        "gca().invert_yaxis() #reverse the y axis\n",
        "plt.title('depth of two layers with distance linearly')\n",
        "plt.xlabel('distance(m)')\n",
        "plt.ylabel('depth(m)')\n",
        "plt.show()\n"
      ]
    },
    {
      "cell_type": "markdown",
      "id": "6ff950f8",
      "metadata": {
        "id": "6ff950f8"
      },
      "source": [
        "# Geological interpretation\n",
        "\n",
        "This GPR section was taken in Alaska over Spring. Propose a possible geological interpretation to the two layers of the GPR profile. **Explain**.\n",
        "\n"
      ]
    },
    {
      "cell_type": "markdown",
      "source": [
        "According to the picture above, it can be seen that the depth of the first layer (blue) is relatively low and relatively stable. This layer may represent a sedimentary layer, potentially consisting of fine-grained material such as silt or clay. And knowing that the survey was conducted in the spring, the presence of this layer may indicate an effect from increased water content in the spring.\n",
        "\n",
        " The second layer (yellow) is at a higher depth, indicating a transition to a different subsurface unit. As the distance increases, the depth also changes greatly. This layer may be bedrock or a denser sedimentary layer. Higher values ​​may also mean lower conductivity, which may correlate with drier conditions. A wet spring may not affect the humidity much."
      ],
      "metadata": {
        "id": "NvfQ8idM5XOH"
      },
      "id": "NvfQ8idM5XOH"
    }
  ],
  "metadata": {
    "kernelspec": {
      "display_name": "Python 3 (ipykernel)",
      "language": "python",
      "name": "python3"
    },
    "language_info": {
      "codemirror_mode": {
        "name": "ipython",
        "version": 3
      },
      "file_extension": ".py",
      "mimetype": "text/x-python",
      "name": "python",
      "nbconvert_exporter": "python",
      "pygments_lexer": "ipython3",
      "version": "3.7.13"
    },
    "colab": {
      "provenance": [],
      "collapsed_sections": [
        "826a9c77"
      ],
      "include_colab_link": true
    }
  },
  "nbformat": 4,
  "nbformat_minor": 5
}