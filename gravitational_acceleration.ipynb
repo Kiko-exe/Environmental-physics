{
  "cells": [
    {
      "cell_type": "markdown",
      "metadata": {
        "id": "view-in-github",
        "colab_type": "text"
      },
      "source": [
        "<a href=\"https://colab.research.google.com/github/Kiko-exe/Environmental-physics/blob/main/gravitational_acceleration.ipynb\" target=\"_parent\"><img src=\"https://colab.research.google.com/assets/colab-badge.svg\" alt=\"Open In Colab\"/></a>"
      ]
    },
    {
      "cell_type": "markdown",
      "id": "64a5daa6-2227-4fa9-a046-6a4f34afa1ad",
      "metadata": {
        "id": "64a5daa6-2227-4fa9-a046-6a4f34afa1ad"
      },
      "source": [
        "\n",
        "# **ENVPHYS 200: Earth Observations and Models**\n",
        "**Assignment 8:** Estimating gravity from a different planet from noisy data\n",
        "\n",
        "Due October 16th 2023 - 11:59pm\n",
        "\n",
        "**Goal:** In this assignment you will be estimating the gravitational constant from a different planet. For that you are provided experimental data for measurements on the time it takes a ball to fall from different heights to which you will fit a function.\n",
        "\n",
        "***Submit your python notebook on canvas. You will be able to answer the questions from the handout below in the notebook.***"
      ]
    },
    {
      "cell_type": "markdown",
      "source": [
        "The equation that governs the time ($t$) it take a ball to fall from a height ($h$) is:\n",
        "\n",
        "$h=\\frac{gt^2}{2}$   (equation 1)\n",
        "\n",
        "where ($g$) is the gravitational acceleration in this particular planet."
      ],
      "metadata": {
        "id": "RclqVvfy0RKt"
      },
      "id": "RclqVvfy0RKt"
    },
    {
      "cell_type": "code",
      "execution_count": 1,
      "id": "32817571-61e4-47c7-af5a-0a7a74ef2bd8",
      "metadata": {
        "tags": [],
        "id": "32817571-61e4-47c7-af5a-0a7a74ef2bd8"
      },
      "outputs": [],
      "source": [
        "import numpy as np\n",
        "import matplotlib.pyplot as plt\n",
        "import pandas as pd\n",
        "from scipy.optimize import curve_fit\n"
      ]
    },
    {
      "cell_type": "markdown",
      "id": "1bcae178-dfa0-478d-9106-e0639dd143b2",
      "metadata": {
        "id": "1bcae178-dfa0-478d-9106-e0639dd143b2"
      },
      "source": [
        "Upload the time_data.csv file to colabs, read it and plot $h$ vs $t$. The time is in seconds and height in meters."
      ]
    },
    {
      "cell_type": "code",
      "source": [
        "from pandas.core.generic import T\n",
        "## write your code here. Remember that we read a csv file in the seismic lab\n",
        "file = pd.read_csv('time_data.csv')\n",
        "\n",
        "t = file['time']\n",
        "h = file['height']\n",
        "\n",
        "plt.plot(h, t)\n",
        "plt.title('the time (t in s) vs ball to fall from a height (h in m)')\n",
        "plt.xlabel('height(m)')\n",
        "plt.ylabel('time(s)')\n",
        "plt.show()\n"
      ],
      "metadata": {
        "id": "85UdhdbX1TW0",
        "colab": {
          "base_uri": "https://localhost:8080/",
          "height": 382
        },
        "outputId": "d4b60606-7924-4860-e38d-02a7f45c821c"
      },
      "id": "85UdhdbX1TW0",
      "execution_count": 2,
      "outputs": [
        {
          "output_type": "error",
          "ename": "FileNotFoundError",
          "evalue": "[Errno 2] No such file or directory: 'time_data.csv'",
          "traceback": [
            "\u001b[0;31m---------------------------------------------------------------------------\u001b[0m",
            "\u001b[0;31mFileNotFoundError\u001b[0m                         Traceback (most recent call last)",
            "\u001b[0;32m/tmp/ipython-input-549906214.py\u001b[0m in \u001b[0;36m<cell line: 0>\u001b[0;34m()\u001b[0m\n\u001b[1;32m      1\u001b[0m \u001b[0;32mfrom\u001b[0m \u001b[0mpandas\u001b[0m\u001b[0;34m.\u001b[0m\u001b[0mcore\u001b[0m\u001b[0;34m.\u001b[0m\u001b[0mgeneric\u001b[0m \u001b[0;32mimport\u001b[0m \u001b[0mT\u001b[0m\u001b[0;34m\u001b[0m\u001b[0;34m\u001b[0m\u001b[0m\n\u001b[1;32m      2\u001b[0m \u001b[0;31m## write your code here. Remember that we read a csv file in the seismic lab\u001b[0m\u001b[0;34m\u001b[0m\u001b[0;34m\u001b[0m\u001b[0m\n\u001b[0;32m----> 3\u001b[0;31m \u001b[0mfile\u001b[0m \u001b[0;34m=\u001b[0m \u001b[0mpd\u001b[0m\u001b[0;34m.\u001b[0m\u001b[0mread_csv\u001b[0m\u001b[0;34m(\u001b[0m\u001b[0;34m'time_data.csv'\u001b[0m\u001b[0;34m)\u001b[0m\u001b[0;34m\u001b[0m\u001b[0;34m\u001b[0m\u001b[0m\n\u001b[0m\u001b[1;32m      4\u001b[0m \u001b[0;34m\u001b[0m\u001b[0m\n\u001b[1;32m      5\u001b[0m \u001b[0mt\u001b[0m \u001b[0;34m=\u001b[0m \u001b[0mfile\u001b[0m\u001b[0;34m[\u001b[0m\u001b[0;34m'time'\u001b[0m\u001b[0;34m]\u001b[0m\u001b[0;34m\u001b[0m\u001b[0;34m\u001b[0m\u001b[0m\n",
            "\u001b[0;32m/usr/local/lib/python3.12/dist-packages/pandas/io/parsers/readers.py\u001b[0m in \u001b[0;36mread_csv\u001b[0;34m(filepath_or_buffer, sep, delimiter, header, names, index_col, usecols, dtype, engine, converters, true_values, false_values, skipinitialspace, skiprows, skipfooter, nrows, na_values, keep_default_na, na_filter, verbose, skip_blank_lines, parse_dates, infer_datetime_format, keep_date_col, date_parser, date_format, dayfirst, cache_dates, iterator, chunksize, compression, thousands, decimal, lineterminator, quotechar, quoting, doublequote, escapechar, comment, encoding, encoding_errors, dialect, on_bad_lines, delim_whitespace, low_memory, memory_map, float_precision, storage_options, dtype_backend)\u001b[0m\n\u001b[1;32m   1024\u001b[0m     \u001b[0mkwds\u001b[0m\u001b[0;34m.\u001b[0m\u001b[0mupdate\u001b[0m\u001b[0;34m(\u001b[0m\u001b[0mkwds_defaults\u001b[0m\u001b[0;34m)\u001b[0m\u001b[0;34m\u001b[0m\u001b[0;34m\u001b[0m\u001b[0m\n\u001b[1;32m   1025\u001b[0m \u001b[0;34m\u001b[0m\u001b[0m\n\u001b[0;32m-> 1026\u001b[0;31m     \u001b[0;32mreturn\u001b[0m \u001b[0m_read\u001b[0m\u001b[0;34m(\u001b[0m\u001b[0mfilepath_or_buffer\u001b[0m\u001b[0;34m,\u001b[0m \u001b[0mkwds\u001b[0m\u001b[0;34m)\u001b[0m\u001b[0;34m\u001b[0m\u001b[0;34m\u001b[0m\u001b[0m\n\u001b[0m\u001b[1;32m   1027\u001b[0m \u001b[0;34m\u001b[0m\u001b[0m\n\u001b[1;32m   1028\u001b[0m \u001b[0;34m\u001b[0m\u001b[0m\n",
            "\u001b[0;32m/usr/local/lib/python3.12/dist-packages/pandas/io/parsers/readers.py\u001b[0m in \u001b[0;36m_read\u001b[0;34m(filepath_or_buffer, kwds)\u001b[0m\n\u001b[1;32m    618\u001b[0m \u001b[0;34m\u001b[0m\u001b[0m\n\u001b[1;32m    619\u001b[0m     \u001b[0;31m# Create the parser.\u001b[0m\u001b[0;34m\u001b[0m\u001b[0;34m\u001b[0m\u001b[0m\n\u001b[0;32m--> 620\u001b[0;31m     \u001b[0mparser\u001b[0m \u001b[0;34m=\u001b[0m \u001b[0mTextFileReader\u001b[0m\u001b[0;34m(\u001b[0m\u001b[0mfilepath_or_buffer\u001b[0m\u001b[0;34m,\u001b[0m \u001b[0;34m**\u001b[0m\u001b[0mkwds\u001b[0m\u001b[0;34m)\u001b[0m\u001b[0;34m\u001b[0m\u001b[0;34m\u001b[0m\u001b[0m\n\u001b[0m\u001b[1;32m    621\u001b[0m \u001b[0;34m\u001b[0m\u001b[0m\n\u001b[1;32m    622\u001b[0m     \u001b[0;32mif\u001b[0m \u001b[0mchunksize\u001b[0m \u001b[0;32mor\u001b[0m \u001b[0miterator\u001b[0m\u001b[0;34m:\u001b[0m\u001b[0;34m\u001b[0m\u001b[0;34m\u001b[0m\u001b[0m\n",
            "\u001b[0;32m/usr/local/lib/python3.12/dist-packages/pandas/io/parsers/readers.py\u001b[0m in \u001b[0;36m__init__\u001b[0;34m(self, f, engine, **kwds)\u001b[0m\n\u001b[1;32m   1618\u001b[0m \u001b[0;34m\u001b[0m\u001b[0m\n\u001b[1;32m   1619\u001b[0m         \u001b[0mself\u001b[0m\u001b[0;34m.\u001b[0m\u001b[0mhandles\u001b[0m\u001b[0;34m:\u001b[0m \u001b[0mIOHandles\u001b[0m \u001b[0;34m|\u001b[0m \u001b[0;32mNone\u001b[0m \u001b[0;34m=\u001b[0m \u001b[0;32mNone\u001b[0m\u001b[0;34m\u001b[0m\u001b[0;34m\u001b[0m\u001b[0m\n\u001b[0;32m-> 1620\u001b[0;31m         \u001b[0mself\u001b[0m\u001b[0;34m.\u001b[0m\u001b[0m_engine\u001b[0m \u001b[0;34m=\u001b[0m \u001b[0mself\u001b[0m\u001b[0;34m.\u001b[0m\u001b[0m_make_engine\u001b[0m\u001b[0;34m(\u001b[0m\u001b[0mf\u001b[0m\u001b[0;34m,\u001b[0m \u001b[0mself\u001b[0m\u001b[0;34m.\u001b[0m\u001b[0mengine\u001b[0m\u001b[0;34m)\u001b[0m\u001b[0;34m\u001b[0m\u001b[0;34m\u001b[0m\u001b[0m\n\u001b[0m\u001b[1;32m   1621\u001b[0m \u001b[0;34m\u001b[0m\u001b[0m\n\u001b[1;32m   1622\u001b[0m     \u001b[0;32mdef\u001b[0m \u001b[0mclose\u001b[0m\u001b[0;34m(\u001b[0m\u001b[0mself\u001b[0m\u001b[0;34m)\u001b[0m \u001b[0;34m->\u001b[0m \u001b[0;32mNone\u001b[0m\u001b[0;34m:\u001b[0m\u001b[0;34m\u001b[0m\u001b[0;34m\u001b[0m\u001b[0m\n",
            "\u001b[0;32m/usr/local/lib/python3.12/dist-packages/pandas/io/parsers/readers.py\u001b[0m in \u001b[0;36m_make_engine\u001b[0;34m(self, f, engine)\u001b[0m\n\u001b[1;32m   1878\u001b[0m                 \u001b[0;32mif\u001b[0m \u001b[0;34m\"b\"\u001b[0m \u001b[0;32mnot\u001b[0m \u001b[0;32min\u001b[0m \u001b[0mmode\u001b[0m\u001b[0;34m:\u001b[0m\u001b[0;34m\u001b[0m\u001b[0;34m\u001b[0m\u001b[0m\n\u001b[1;32m   1879\u001b[0m                     \u001b[0mmode\u001b[0m \u001b[0;34m+=\u001b[0m \u001b[0;34m\"b\"\u001b[0m\u001b[0;34m\u001b[0m\u001b[0;34m\u001b[0m\u001b[0m\n\u001b[0;32m-> 1880\u001b[0;31m             self.handles = get_handle(\n\u001b[0m\u001b[1;32m   1881\u001b[0m                 \u001b[0mf\u001b[0m\u001b[0;34m,\u001b[0m\u001b[0;34m\u001b[0m\u001b[0;34m\u001b[0m\u001b[0m\n\u001b[1;32m   1882\u001b[0m                 \u001b[0mmode\u001b[0m\u001b[0;34m,\u001b[0m\u001b[0;34m\u001b[0m\u001b[0;34m\u001b[0m\u001b[0m\n",
            "\u001b[0;32m/usr/local/lib/python3.12/dist-packages/pandas/io/common.py\u001b[0m in \u001b[0;36mget_handle\u001b[0;34m(path_or_buf, mode, encoding, compression, memory_map, is_text, errors, storage_options)\u001b[0m\n\u001b[1;32m    871\u001b[0m         \u001b[0;32mif\u001b[0m \u001b[0mioargs\u001b[0m\u001b[0;34m.\u001b[0m\u001b[0mencoding\u001b[0m \u001b[0;32mand\u001b[0m \u001b[0;34m\"b\"\u001b[0m \u001b[0;32mnot\u001b[0m \u001b[0;32min\u001b[0m \u001b[0mioargs\u001b[0m\u001b[0;34m.\u001b[0m\u001b[0mmode\u001b[0m\u001b[0;34m:\u001b[0m\u001b[0;34m\u001b[0m\u001b[0;34m\u001b[0m\u001b[0m\n\u001b[1;32m    872\u001b[0m             \u001b[0;31m# Encoding\u001b[0m\u001b[0;34m\u001b[0m\u001b[0;34m\u001b[0m\u001b[0m\n\u001b[0;32m--> 873\u001b[0;31m             handle = open(\n\u001b[0m\u001b[1;32m    874\u001b[0m                 \u001b[0mhandle\u001b[0m\u001b[0;34m,\u001b[0m\u001b[0;34m\u001b[0m\u001b[0;34m\u001b[0m\u001b[0m\n\u001b[1;32m    875\u001b[0m                 \u001b[0mioargs\u001b[0m\u001b[0;34m.\u001b[0m\u001b[0mmode\u001b[0m\u001b[0;34m,\u001b[0m\u001b[0;34m\u001b[0m\u001b[0;34m\u001b[0m\u001b[0m\n",
            "\u001b[0;31mFileNotFoundError\u001b[0m: [Errno 2] No such file or directory: 'time_data.csv'"
          ]
        }
      ]
    },
    {
      "cell_type": "markdown",
      "source": [
        "# **Question 1:**\n",
        " **[The equation (1) h = (gt^2)/2 shows that the height will increase when time increase. From the equation we can get a parabola graph, the height vs time figure described the change of the height of the free fall movement with respect to time is in line with the shape of the parabola. The figure above is represented as a parabola, with the height increasing over time. Although the graph is not perfect, this may be due to errors in the data points. In addition, there are errors in the measurement process, and the surrounding environment also has a certain impact on the data.]**\n",
        "\n",
        "What is the shape of these data? Does it match the expected function shape from equation 1? Why is the shape not perfect? Explain.\n",
        "\n",
        "\n",
        "\n",
        "\n",
        "\n",
        "\n",
        "\n",
        "\n",
        "\n"
      ],
      "metadata": {
        "id": "hIr1DBhmONSn"
      },
      "id": "hIr1DBhmONSn"
    },
    {
      "cell_type": "markdown",
      "source": [
        "In ENVPHYS 100 you performed a linear regression in the \"Swells, tides and tsunamis\" lab. This is a curve fitting method, but the only curve that is allowed is a straight line. We want you code  fitting data to **any** curve. For that, you will fit the equation of dropping the ball with a non-linear curve."
      ],
      "metadata": {
        "id": "ksR0J2mFXx6Z"
      },
      "id": "ksR0J2mFXx6Z"
    },
    {
      "cell_type": "markdown",
      "source": [
        "# **Question 2:**\n",
        "\n",
        "In the next section you will fit a curve to your data so that you can estimate $g$ on this planet.  For that you will need to:\n",
        "- Build a function for a parabola\n",
        "- Call the function in the [curvefit](https://docs.scipy.org/doc/scipy/reference/generated/scipy.optimize.curve_fit.html)\n",
        "\n",
        "The hyperlink take you to the manual for fitting any type of curve (any equation!). This is very powerful and you will be able to use it in any further studies :)\n",
        "\n",
        "[Here](https://www.askpython.com/python/examples/curve-fitting-in-python) is another easy resource for building the function and doing the curve fit.\n",
        "\n",
        "**When you go to the hyperlinks, there are examples at the end of the page, so please take a look at them.**"
      ],
      "metadata": {
        "id": "CEw_uiaBPDvN"
      },
      "id": "CEw_uiaBPDvN"
    },
    {
      "cell_type": "code",
      "source": [
        "import numpy as np\n",
        "from scipy.optimize import curve_fit\n",
        "import matplotlib.pyplot as plt\n",
        "\n",
        "def func(t, g):\n",
        "    return (g * t**2) / 2\n",
        "\n",
        "popt, _ = curve_fit(func, t, h)\n",
        "\n",
        "g_e = popt[0]\n",
        "\n",
        "t_fit = np.linspace(min(t), max(t), 100)\n",
        "h_fit = func(t_fit, g_e)\n",
        "\n",
        "plt.plot(h, t, label='the data recorded during experinment')\n",
        "plt.plot(h_fit, t_fit, label=f'fitted Curve (g ≈ {g_e:.2f} m/s²)', color='red')\n",
        "plt.title('the time (t in s) vs ball to fall from a height (h in m) and Fitted Curve')\n",
        "plt.xlabel('height (m)')\n",
        "plt.ylabel('time (s)')\n",
        "plt.legend()\n",
        "plt.show()\n",
        "\n",
        "print(f\"Estimated gravitational constant is approximately {g_e:.2f} m/s²\")\n"
      ],
      "metadata": {
        "id": "SlBiVsbAfLcd"
      },
      "id": "SlBiVsbAfLcd",
      "execution_count": null,
      "outputs": []
    },
    {
      "cell_type": "markdown",
      "source": [
        "# **Question 3:**\n",
        "\n",
        "What is g for this planet? On what planet in the Solar System did we do the ball drop experiment?\n",
        "\n",
        "**This planet g is approximately 3.76m/s^2. Maybe is in Mercury did the ball drop experiment.**\n",
        "\n"
      ],
      "metadata": {
        "id": "lg3eSCNIUp49"
      },
      "id": "lg3eSCNIUp49"
    },
    {
      "cell_type": "markdown",
      "source": [
        "# **Question 4:**\n",
        "\n",
        "- Compare your noisy data to your fitted curve. For that, plot your fitted curve on top of your data.  \n",
        "\n",
        "- Estimate the noise in your data, that is, the difference between your data and the model. Plot that difference (i.e. error).\n",
        "\n",
        "- Estimate the standard deviation of this time error.\n",
        "\n",
        "- Assuming $h$ is error-free, propagate the time error into your gravitational constant. Check this [wikipedia](https://en.wikipedia.org/wiki/Propagation_of_uncertainty) link for non-linear error propagation [see simplification].\n",
        "\n",
        "- If we predict the subsurface of the planet creates a gravitational anomaly of 1 Gal, can we resolve it with this experimental methods (ball drop method)?\n",
        "\n"
      ],
      "metadata": {
        "id": "bAVKJoFgW8h-"
      },
      "id": "bAVKJoFgW8h-"
    },
    {
      "cell_type": "code",
      "source": [
        "plt.plot(h, t, label='noise data')\n",
        "plt.plot(h_fit, t_fit, label=f'fitted curve (g ≈ {g_e:.2f} m/s²)', color='red')\n",
        "\n",
        "error = h - func(t, g_e)\n",
        "plt.plot(h, error, label='error', color='green')\n",
        "plt.title('the time (t in s) vs ball to fall from a height (h in m) and fitted curve and error')\n",
        "plt.xlabel('height (m)')\n",
        "plt.ylabel('time (s)')\n",
        "plt.legend()\n",
        "plt.show()\n",
        "\n",
        "standard_deviation = np.std(error)\n",
        "print(f\"standard deviation of error: {standard_deviation:.4f} s\")\n",
        "error_g = 2 * (standard_deviation / np.mean(t))\n",
        "print(f\"error in gravitational constant: {error_g:.4f} m/s²\")"
      ],
      "metadata": {
        "id": "TgbbxY0S4cl8"
      },
      "id": "TgbbxY0S4cl8",
      "execution_count": null,
      "outputs": []
    },
    {
      "cell_type": "markdown",
      "source": [
        "**standard deviation of error: 1.7064 s ; error in gravitational constant: 0.7117 m/s²**"
      ],
      "metadata": {
        "id": "8BTtZd_UHcIb"
      },
      "id": "8BTtZd_UHcIb"
    },
    {
      "cell_type": "markdown",
      "source": [
        "**If assuming h is error-free, propagate the time error into the gravitational constant. At first we can get g euqation, g = (2h)/t^2, the h is error free, so only consider t error. According to the multiplication and division error equation, error t = delta_t/t times 100% get the percentage. The equation g have to t, t times t, so add the percentage t error together. Then get the g error in percentage. So use the percentage times g value get the error g.**"
      ],
      "metadata": {
        "id": "1i8VQiX8AWEk"
      },
      "id": "1i8VQiX8AWEk"
    },
    {
      "cell_type": "markdown",
      "source": [
        "**If we predict the subsurface of the planet creates a gravitational anomaly of 1 Gal, we cannot resolve it with this experimental methods. It may not provide the precision required to detect such a small gravitational variation. Reason including sensitivity, equipment Limitations, noise/error, limited Spatial Resolution and so on.**"
      ],
      "metadata": {
        "id": "KgQ8x0iW-tmh"
      },
      "id": "KgQ8x0iW-tmh"
    },
    {
      "cell_type": "markdown",
      "source": [
        "# **Question 5:**\n",
        "\n",
        "If the experiment is performed at much greater and variable heights, for example, using satellites orbiting at significantly different distances from the surface of the planet, would directly using equation 1 be reasonable?\n",
        "\n",
        "Answer: No. The gravitational constant would be in itself changing as g depends on the height at which we perfom the experiment.\n",
        "\n",
        "$g_{planet}=G\\frac{M_{planet}}{r^2}$, where $G$ is the gravitational constant, $M$ is mass and $r$ is distance between the objects."
      ],
      "metadata": {
        "id": "pgMshDl3l8H7"
      },
      "id": "pgMshDl3l8H7"
    },
    {
      "cell_type": "markdown",
      "source": [
        "**When we move to a different altitude or distance (r) from the center of the Earth, both the value of G and the distance r change. Since G is not constant with respect to height, using equation 1 without consider these changes will not produce accurate results.**"
      ],
      "metadata": {
        "id": "TbK7Q8YYGY3S"
      },
      "id": "TbK7Q8YYGY3S"
    },
    {
      "cell_type": "markdown",
      "source": [
        "**The link for the notebook: https://colab.research.google.com/drive/11u7XQ4o_X9Rhdk3pNyKHooAmIzoHjLKv?usp=sharing.**"
      ],
      "metadata": {
        "id": "DdOCouxWHFux"
      },
      "id": "DdOCouxWHFux"
    }
  ],
  "metadata": {
    "kernelspec": {
      "display_name": "Python 3 (ipykernel)",
      "language": "python",
      "name": "python3"
    },
    "language_info": {
      "codemirror_mode": {
        "name": "ipython",
        "version": 3
      },
      "file_extension": ".py",
      "mimetype": "text/x-python",
      "name": "python",
      "nbconvert_exporter": "python",
      "pygments_lexer": "ipython3",
      "version": "3.10.13"
    },
    "colab": {
      "provenance": [],
      "include_colab_link": true
    }
  },
  "nbformat": 4,
  "nbformat_minor": 5
}