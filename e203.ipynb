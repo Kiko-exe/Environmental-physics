{
  "cells": [
    {
      "cell_type": "markdown",
      "metadata": {
        "id": "view-in-github",
        "colab_type": "text"
      },
      "source": [
        "<a href=\"https://colab.research.google.com/github/Kiko-exe/Environmental-physics/blob/main/e203.ipynb\" target=\"_parent\"><img src=\"https://colab.research.google.com/assets/colab-badge.svg\" alt=\"Open In Colab\"/></a>"
      ]
    },
    {
      "cell_type": "markdown",
      "metadata": {
        "id": "eyIvvDWGPEHu"
      },
      "source": [
        "# Experiment 203 - Electrical basics"
      ]
    },
    {
      "cell_type": "markdown",
      "metadata": {
        "id": "pH8Kc_InPIMF"
      },
      "source": [
        "<font color='red'>[Name: Yuehan Luo & ID: 169890290]</font>"
      ]
    },
    {
      "cell_type": "markdown",
      "metadata": {
        "id": "h6GPXeA7TgyM"
      },
      "source": [
        "## Aim\n",
        "\n",
        "To learn how to use a digital multimeter and oscilloscope to measure DC and AC voltages, DC and AC currents, resistance, capacitance, time, frequency and phase. You may be unfamiliar with these instruments or the components measured. If so, don’t hesitate to ask a demonstrator for assistance."
      ]
    },
    {
      "cell_type": "markdown",
      "metadata": {
        "id": "9KxPTy5pO2wI"
      },
      "source": [
        "## Ohm's law\n",
        "\n",
        "The most important thing you need to know for this experiment is Ohm's law:\n",
        "\n",
        "$$ V = R I$$\n",
        "\n",
        "where $V$ is a voltage (in units of Vols, V) across a resistor, $I$ is the current (in units of Amperes, A) going through that resistor, and $R$ is the resistance (in units of Ohms, Ω) of that resistor.\n",
        "\n",
        "### The voltage division theorem\n",
        "\n",
        "Consider a voltage source connected to two resistors in series, as illustrated in the figure below.\n",
        "\n",
        "![](https://github.com/UoA-Physics-Advanced-Lab/public-resources/blob/main/e203/f26100.png?raw=true)\n",
        "\n",
        "The voltage across the combination of resistors is the voltage of the source, $V_\\mathrm{s}$. But what is the voltage across each individual resistor?\n",
        "\n",
        "Ohm's law will help. As current is a flow of electrons, and the flow of electrons is conserved, the current $I$ going through both resistors must be the same. It can be found by applying Ohm's law to the total series resistance,\n",
        "\n",
        "$$I=\\frac{V_\\mathrm{s}}{R_1+R_2}\\,.$$\n",
        "\n",
        "Now, using that current, we can apply Ohm's law to the individual resistors, $V_1 = R_1 I$ and $V_2 = R_2 I$. We thus find,\n",
        "\n",
        "$$ V_1 = \\frac{R_1}{R_1+R_2} V_\\mathrm{s}\\,,$$\n",
        "\n",
        "$$ V_2 = \\frac{R_2}{R_1+R_2} V_\\mathrm{s}\\,,$$\n",
        "\n",
        "and\n",
        "\n",
        "$$\\frac{V_1}{V_2}=\\frac{R_1}{R_2}\\,.$$\n",
        "\n",
        "Observe how the voltage $V_1$ (or $V_2$) is a fraction of the original source voltage, while $V_1+V_2=V_\\mathrm{s}$. The larger $R_1$, the larger the fraction of the source voltage developed across $R_1$. This is the voltage division theorem.\n",
        "\n",
        "### Parallel resistors\n",
        "\n",
        "Now imagine you have two resistors in parallel, as in the figure below.\n",
        "    \n",
        "![](https://github.com/UoA-Physics-Advanced-Lab/public-resources/blob/main/e203/f26100b.png?raw=true)\n",
        "\n",
        "What would be the *equivalent resistance* of the two-resistor network? By that we mean: if we were to replace the parallel combination of $R_1$ and $R_2$ in the above circuit by a *single* resistor, such that the current drawn from the source is unchanged, what would be the resistance $R_\\mathrm{T}$ of that resistor? According to Ohm's law, it has to be such that $V_\\mathrm{s} = R_\\mathrm{T} I$. Conversely, we can discover the value of $R_\\mathrm{T}$ by figuring out the total current flowing in the circuit, $I$, and calculating $R_\\mathrm{T} = V_\\mathrm{s}/I$.\n",
        "\n",
        "Again we can call on Ohm's law to solve this problem. Because the two resistors are in parallel, they have the same voltage across, which is simply the source voltage. Therefore we have $V_\\mathrm{s}=R_1 I_1 = R_2 I_2$, where $I_1$ and $I_2$ are the individual currents flowing into each resistor. We also know that the total current $I$ must be such that $I_1+I_2=I$ because current is conserved.\n",
        "\n",
        "We can now calcuate the equivalent resistance $R_\\mathrm{T}$ of the circuit,\n",
        "\n",
        "$$ R_\\mathrm{T}\n",
        "     = \\frac{V_\\mathrm{s}}{I}\n",
        "     = \\frac{V_\\mathrm{s}}{I_1+I_2}\n",
        "     = \\frac{V_\\mathrm{s}}{\\displaystyle \\frac{V_\\mathrm{s}}{R_1}+\\frac{V_\\mathrm{s}}{R_2}}\n",
        "     = \\frac{1}{\\displaystyle \\frac{1}{R_1}+\\frac{1}{R_2}}$$\n",
        "\n",
        "or equivalently\n",
        "\n",
        "$$ \\frac{1}{R_\\mathrm{T}} = \\frac{1}{R_1} + \\frac{1}{R_2}.$$\n",
        "\n",
        "Note how this implies that $R_\\mathrm{T}$ will always be smaller than both $R_1$ and $R_2$. As the total current has several paths to flow through, the parallel network presents overall less resistance than any of the two individual resistors. You can also observe that the largest current will be found in the branch that presents the smallest resistance, $I_1/I_2 = R_2/R_1$: the current will preferentially follow the path of least resistance.\n",
        "\n",
        "These basic results will be useful in this experiment, especially for procedures (10) and (11).\n"
      ]
    },
    {
      "cell_type": "markdown",
      "metadata": {
        "id": "3w5ALbpwYGVm"
      },
      "source": [
        "## The Digital Multimeter (DMM)\n",
        "\n",
        "The Fluke 77 Digital multimeter supplied can measure DC and AC voltages and currents, as well as resistance. This model by default is auto-ranging, that is, it adjusts its sensitivity automatically to give the most accurate reading of the quantity measured, with 3 or 4 significant digits. The rotating selector switch selects the type of measurement. **When not in use, always turn this to the left-most “off” position.** The other switch positions, reading clockwise, are for measuring\n",
        "\n",
        "* AC voltage,\n",
        "* DC voltage,\n",
        "* higher sensitivity DC voltage (300 mV maximum),\n",
        "* resistance,\n",
        "* circuit continuity (produces an audible signal if the resistance between the probes is less than about 100 Ω),\n",
        "* AC current,\n",
        "* DC current.\n",
        "\n",
        "<br />\n",
        "\n",
        "<img src=\"https://github.com/UoA-Physics-Advanced-Lab/public-resources/blob/main/e203/f203-fluke77.jpg?raw=true\" width=\"200\" />\n",
        "\n",
        "**For voltage and resistance measurements**, the probe leads must be plugged into  the two right-hand sockets — black to bottom. **For current measurements**, the red lead is plugged into one of the two left-hand sockets (depending on current amplitude, as indicated).\n",
        "\n",
        "###<font color='red'>Warning! Read this twice!</font>\n",
        "\n",
        "<font color='red'>Never connect the leads of a meter configured to measure current directly across the terminals of a DC power supply, as this may blow the meter fuse or even destroy the meter.</font>\n"
      ]
    },
    {
      "cell_type": "markdown",
      "metadata": {
        "id": "Z5Mg_lpRIlxM"
      },
      "source": [
        "## Circuit board\n",
        "\n",
        "All components used in this experiment are mounted on a circuit board, shown in the photograph below. Underneath the photo, you can see a corresponding schematic diagram of the board (Figure 1). The blue labels in the diagram correspond to those visible on the stickers (black on white) in the photograph. The red jumper lead, labelled **S** in the diagram, can be connected to various points, enabling some reconfiguration.\n",
        "\n",
        "<br />\n",
        "\n",
        "<img src='https://github.com/UoA-Physics-Advanced-Lab/public-resources/blob/main/e203/f203-board.jpg?raw=true' width='80%' />\n",
        "\n",
        "<br />\n",
        "<br />\n",
        "\n",
        "<img src='https://github.com/UoA-Physics-Advanced-Lab/public-resources/blob/main/e203/f203-tikz-board.svg?raw=true' width='80%' />\n",
        "\n",
        "\n"
      ]
    },
    {
      "cell_type": "markdown",
      "metadata": {
        "id": "KJztzg_nY813"
      },
      "source": [
        "## Resistance Measurements\n",
        "\n",
        "As you can see in the schematic diagram above, the resistance of the resistors $R_\\mathrm{a}$ to $R_\\mathrm{d}$ and $R_1$ to $R_5$ are not specified. Your first task will be to determine those."
      ]
    },
    {
      "cell_type": "markdown",
      "metadata": {
        "id": "Lpzb0oyodE31"
      },
      "source": [
        ">1\\. Use the digital multimeter (DMM) to measure each of the resistances $R_\\mathrm{a}$ to $R_\\mathrm{d}$ (hereafter, these will be referred to as the *source* resistors) and $R_1$ to $R_5$ (hereafter *load* resistors) on the circuit board provided. Record, in the code snipped below, the **measured** values together with their **nominal values**, determined from the colour code of each resistor."
      ]
    },
    {
      "cell_type": "code",
      "execution_count": 1,
      "metadata": {
        "id": "n7rz0Y5nO2wO"
      },
      "outputs": [],
      "source": [
        "# First we load the Numeric Python library\n",
        "import numpy as np\n",
        "\n",
        "# nominal values\n",
        "# Values measured with the DMM\n",
        "Ra = 991\n",
        "Rb = 101.1\n",
        "Rc = 1020000\n",
        "Rd = 10600000\n",
        "\n",
        "R1 = 269.1\n",
        "R2 = 681\n",
        "R3 = 1481\n",
        "R4 = 3900\n",
        "R5 = 1040000\n",
        "\n",
        "# We store the \"source\" resistors into a Numpy array\n",
        "RS = np.array([Ra, Rb, Rc, Rd])\n",
        "\n",
        "# Same for the \"load\" resistors\n",
        "RL = np.array([R1, R2, R3, R4, R5])\n",
        "\n",
        "# Insert code below to record the nominal values of all these resistors\n",
        "# (use different variables names)\n",
        "Ra_n = 1000\n",
        "Rb_n = 100\n",
        "Rc_n = 1000000\n",
        "Rd_n = 10000000\n",
        "\n",
        "R1_n = 270\n",
        "R2_n = 680\n",
        "R3_n = 1500\n",
        "R4_n = 3900\n",
        "R5_n = 1000000\n",
        "# tolerance: 5%"
      ]
    },
    {
      "cell_type": "markdown",
      "metadata": {
        "id": "ShruUHHzZK2P"
      },
      "source": [
        "In the code above, we store the values of the resistors in *Numpy* **arrays**, defined with the `np.array(...)` function. Try some of the code below to learn more about arrays."
      ]
    },
    {
      "cell_type": "code",
      "execution_count": 2,
      "metadata": {
        "id": "8t-2wW3MZqOX",
        "colab": {
          "base_uri": "https://localhost:8080/"
        },
        "outputId": "4640e6e1-3d33-40e9-9d45-23abac828a96"
      },
      "outputs": [
        {
          "output_type": "stream",
          "name": "stdout",
          "text": [
            "@ index [2]: 15.0\n",
            "@ index [-1]: 1234.5\n",
            " \n",
            "@ index [0:6:2]: [-18.    15.    -5.34]\n",
            " \n",
            "< -18.0 >\n",
            "< 0.0 >\n",
            "< 15.0 >\n",
            "< 300.0 >\n",
            "< -5.34 >\n",
            "< -1000.0 >\n",
            "< 3.141516 >\n",
            "< 1234.5 >\n",
            " \n",
            "[  -36.           0.          30.         600.         -10.68\n",
            " -2000.           6.283032  2469.      ]\n",
            " \n",
            "[ -18.            0.            5.           75.           -1.068\n",
            " -166.66666667    0.448788    154.3125    ]\n"
          ]
        }
      ],
      "source": [
        "myarray = np.array([-18.0, 0, 15, 3e2, -5.34, -1000, 3.141516, 1234.5])\n",
        "\n",
        "# You can access individual elements with their index (zero-based)\n",
        "print('@ index [2]:', myarray[2])\n",
        "print('@ index [-1]:', myarray[-1])     # Guess what this does?\n",
        "print(' ')\n",
        "\n",
        "# You can address several elements at once\n",
        "print('@ index [0:6:2]:', myarray[0:6:2])\n",
        "print(' ')\n",
        "\n",
        "# You can loop over array elements\n",
        "for element in myarray:\n",
        "  print('<', element, '>')\n",
        "print(' ')\n",
        "\n",
        "# You can do calculations on all elements at once\n",
        "print(myarray*2)\n",
        "print(' ')\n",
        "print(myarray/np.array([1,2,3,4,5,6,7,8]))\n"
      ]
    },
    {
      "cell_type": "markdown",
      "metadata": {
        "id": "YFuZ7odIO2wO"
      },
      "source": [
        "## DC Voltage Source Measurements\n",
        "\n",
        "For this experiment, we will be using a Phillips PE 4818 DC power supply (photo below). It has an adjustable voltage range of 0 – 35 V, set with the left-hand knob. **Pull this knob to turn the power supply on.** Current limiting is provided to help protect the equipment in case of inadvertant short circuits. The current limit is set with the right-hand knob. For this experiment, it can be set fully clockwise, as we do not wish the power supply to interact with the measurements we make. The left (negative) and right (positive) terminals supply the output voltage. The centre (ground) terminal connects to the case and is not used in this experiment.\n",
        "\n",
        "<br />\n",
        "\n",
        "<img src=\"https://github.com/UoA-Physics-Advanced-Lab/public-resources/blob/main/e203/f203-philips_pe4818.jpg?raw=true\" height='400'/>\n"
      ]
    },
    {
      "cell_type": "markdown",
      "metadata": {
        "id": "d_nbdNixO2wO"
      },
      "source": [
        ">2\\. Connect the DC voltage source to terminals **e** and **g** of the circuit board (+ to **e** and − to **g**). Make sure the jumper lead **S** is disconnected. Set the DMM to read DC voltages and connect it across the supply output voltage. Adjust the power supply such that the DMM reads exactly 10.0 V (the power supply display may read slightly different).\n",
        "The circuit to the left of **S**, between points **e** and **g** (i.e. the power supply) can be considered to be an *ideal* DC voltage source. This means that its voltage *should remain absolutely constant regardless of the current drawn from it.*\n",
        ">\n",
        "> The diagram in Figure 2(a) shows how we will check the latter statement: we will connect a *load* resistor $R_\\mathrm{L}$ to the power supply (PS, in the diagram), so as to draw a current, $I_\\mathrm{o}$, from it. By changing the resistance $R_\\mathrm{L}$ (the arrow across it on the diagram indicates a *variable* resistor), we will *vary* the current drawn from the source (think about Ohm's law). As we do this, we will measure the voltage $V_\\mathrm{o}$ across it. In practice, we will use discrete values of $R_\\mathrm{L}$, given by $R_1$ to $R_5$.\n",
        ">\n",
        ">![Fig2](https://github.com/UoA-Physics-Advanced-Lab/public-resources/blob/main/e203/f26102.png?raw=true)\n",
        ">\n",
        "> For each value of load resistance, $R_1$ to $R_5$, selected by connecting the jumper lead **S** to the corresponding pin on the circuit board, measure the output voltage $V_\\mathrm{o}$, using the DMM. Also measure the output voltage in *open circuit* condition, i.e. without any load (jumper lead disconnected). This case corresponds to an *inifinite* load resistance. Using the load resistance values measured earlier, and using Ohm's law, calculate the current $I_\\mathrm{o}$ flowing in each case. Record and tabulate the corresponding values of $V_\\mathrm{o}$ and $I_\\mathrm{o}$ in the code below. Make sure to specify units, in comments or inside print statements."
      ]
    },
    {
      "cell_type": "code",
      "execution_count": 3,
      "metadata": {
        "collapsed": true,
        "id": "6tR_CaTuO2wP",
        "colab": {
          "base_uri": "https://localhost:8080/"
        },
        "outputId": "f0b03589-850e-4db7-a670-11a730fcfb86"
      },
      "outputs": [
        {
          "output_type": "stream",
          "name": "stdout",
          "text": [
            "Current Io (Amps): [3.80156076e-02 1.50220264e-02 6.90749494e-03 2.62307692e-03\n",
            " 9.83653846e-06 0.00000000e+00] Amps\n"
          ]
        }
      ],
      "source": [
        "# Make an array of your measured values of Vo here\n",
        "# Include the open circuit voltage at the end\n",
        "Vo = [10.23, 10.23, 10.23, 10.23, 10.23, 10.23]\n",
        "\n",
        "# We extend the load resistor array, to include the infinite resistance of the\n",
        "# open circuit condition at the end. In Numpy, infinity is represented by np.inf\n",
        "R = np.append(RL, np.inf)\n",
        "\n",
        "# Calculate the currents Io using Ohm's law, I = V/R\n",
        "Io = Vo/R\n",
        "\n",
        "# Print out your results, with units\n",
        "print('Current Io (Amps):', Io, 'Amps')"
      ]
    },
    {
      "cell_type": "markdown",
      "metadata": {
        "id": "9t5LJhJ7O2wP"
      },
      "source": [
        ">3\\. Plot a graph of $V_\\mathrm{o}$ as a function of $I_\\mathrm{o}$ using *Python*'s plotting library `matplotlib`, using code like:\n",
        "```python\n",
        "  import matplotlib.pyplot as plt\n",
        "  plt.plot(Io, Vo, 'o-')\n",
        "  plt.xlabel('...')\n",
        "  plt.ylabel('...')\n",
        "  plt.title('...')\n",
        "```"
      ]
    },
    {
      "cell_type": "code",
      "execution_count": 4,
      "metadata": {
        "collapsed": true,
        "id": "H1IZzjuVO2wP",
        "colab": {
          "base_uri": "https://localhost:8080/",
          "height": 490
        },
        "outputId": "08a959e1-f44c-4651-f771-8d2d84fdb151"
      },
      "outputs": [
        {
          "output_type": "execute_result",
          "data": {
            "text/plain": [
              "Text(0.5, 1.0, 'Vo vs Io')"
            ]
          },
          "metadata": {},
          "execution_count": 4
        },
        {
          "output_type": "display_data",
          "data": {
            "text/plain": [
              "<Figure size 640x480 with 1 Axes>"
            ],
            "image/png": "[encoded data removed]"
          },
          "metadata": {}
        }
      ],
      "source": [
        "import matplotlib.pyplot as plt\n",
        "plt.plot(Io, Vo, 'o-')\n",
        "plt.xlabel('Io (A)')\n",
        "plt.ylabel('Vo (V)')\n",
        "plt.title('Vo vs Io')"
      ]
    },
    {
      "cell_type": "markdown",
      "metadata": {
        "id": "1G-rrgMKE-q3"
      },
      "source": [
        "> Does your graph confirm that the power supply is ideal?"
      ]
    },
    {
      "cell_type": "markdown",
      "metadata": {
        "id": "TCXUDHsjFCCp"
      },
      "source": [
        "<font color='red'>Yes. An ideal power supply should have zero voltage drop. In the graph above shows the Voltage no change during the Io is changing.</red>"
      ]
    },
    {
      "cell_type": "markdown",
      "metadata": {
        "id": "2dtMG68FO2wP"
      },
      "source": [
        "### Non ideal power supply\n",
        "\n",
        "You may notice that the currents you have drawn from the power supply so far, which you have calculated above, are all reasonably small. If you draw too much current from a source however (above what it is specified for), it will eventually show some non ideality. This is also the case for cells, batteries, “plug- packs” etc. All these real world sources are usually not ideal, in that their terminal voltage decreases with increasing current. While the reasons for this can be complex, the observed current-voltage characteristic can usually be **modelled** fairly accurately by assuming the source to be **an ideal voltage source in series with an internal resistance**. Such an equivalent model is called the Thevenin equivalent circuit of the source.\n",
        "\n",
        "We cannot physically access the internal resistance of our power supply, nor can we change or remove it (you never can), but we can *simulate* a non ideal source behaviour by placing a resistance in series with the output, and  pretending that that extra resistance is part of the 'internal' resistance."
      ]
    },
    {
      "cell_type": "markdown",
      "metadata": {
        "id": "BkCRKbWTJJcO"
      },
      "source": [
        ">4\\. Connect the voltage source between terminals **a** and **g** so that the circuit to the left of **S** becomes a non-ideal voltage source, i.e. one having a finite \"internal\" resistance (= $R_\\mathrm{a}$). Repeat procedure (2) in these conditions. Record and print out the values of the output currents and voltages you obtain with appropriate code below."
      ]
    },
    {
      "cell_type": "code",
      "execution_count": 5,
      "metadata": {
        "collapsed": true,
        "id": "9Y5yJpsIO2wQ",
        "colab": {
          "base_uri": "https://localhost:8080/"
        },
        "outputId": "25c93545-801c-43ea-f466-4df41788cc87"
      },
      "outputs": [
        {
          "output_type": "stream",
          "name": "stdout",
          "text": [
            "Current Io (in Amps): [3.80156076e-02 1.50220264e-02 6.90749494e-03 2.62307692e-03\n",
            " 9.83653846e-06 0.00000000e+00] Amps\n"
          ]
        }
      ],
      "source": [
        "# Make an array of your measured values of Vo here\n",
        "# Include the open circuit voltage at the end\n",
        "Vn = np.array([2.14, 4.14, 6.14, 8.17, 10.23])\n",
        "\n",
        "# We extend the load resistor array, to include the infinite resistance of the\n",
        "# open circuit condition at the end. In Numpy, infinity is represented by np.inf\n",
        "R = np.append(RL, np.inf)\n",
        "\n",
        "# Calculate the currents Io using Ohm's law, I = V/R\n",
        "In = Vn/RL\n",
        "\n",
        "# Print out your results, with units\n",
        "print('Current Io (in Amps):', Io, 'Amps')"
      ]
    },
    {
      "cell_type": "markdown",
      "metadata": {
        "id": "F_FRHpLBO2wQ"
      },
      "source": [
        ">5\\. Copy and extend your plotting code, procedure (3) above, to show *both* sets of measurements (ideal and non ideal) on the *same* graph, $V_\\mathrm{o}$ as a function of $I_\\mathrm{o}$. Confirm that the graph of the non-ideal source data you have just plotted is what you would expect, i.e. the current-voltage characteristic of a voltage source having an internal resistance of $R_\\mathrm{a}$ (check the slope of the graph etc). Your plot should be similar to the one shown as “real” in Figure 2(b). Note that you can use this technique to measure the internal resistance of a source."
      ]
    },
    {
      "cell_type": "code",
      "execution_count": 6,
      "metadata": {
        "id": "14udh5vQLxbm",
        "colab": {
          "base_uri": "https://localhost:8080/",
          "height": 490
        },
        "outputId": "5bd28ee1-47e4-4237-a324-76d2ecc1adab"
      },
      "outputs": [
        {
          "output_type": "execute_result",
          "data": {
            "text/plain": [
              "Text(0.5, 1.0, 'Voltage  Measurements')"
            ]
          },
          "metadata": {},
          "execution_count": 6
        },
        {
          "output_type": "display_data",
          "data": {
            "text/plain": [
              "<Figure size 640x480 with 1 Axes>"
            ],
            "image/png": "[encoded data removed]"
          },
          "metadata": {}
        }
      ],
      "source": [
        "import matplotlib.pyplot as plt\n",
        "plt.plot(Io, Vo, 'o-')\n",
        "plt.xlabel('current value')\n",
        "plt.ylabel('voltage value')\n",
        "plt.title('Voltage  Measurements')"
      ]
    },
    {
      "cell_type": "markdown",
      "metadata": {
        "id": "jE8CYWapLzeh"
      },
      "source": [
        "<font color='red'>From the graph above shows that the voltage decrease when the current increases. So this graph show the non-ideal power supply.</red>"
      ]
    },
    {
      "cell_type": "markdown",
      "metadata": {
        "id": "3W4ria79O2wQ"
      },
      "source": [
        "__Question:__ Why does the voltage decrease when the current increases? Explain in particular how this is related to the voltage division theorem discussed in the introduction."
      ]
    },
    {
      "cell_type": "markdown",
      "metadata": {
        "id": "ywPWSRTgL3sv"
      },
      "source": [
        "<font color='red'>The voltage decreases when the current increases due to the internal resistance of the power supply. According to the voltage division theorem, this results in a voltage drop.</red>"
      ]
    },
    {
      "cell_type": "markdown",
      "metadata": {
        "id": "qzisHEeuO2wR"
      },
      "source": [
        ">6\\. A non-ideal, linear voltage source may be represented by either the Thevenin (voltage source) equivalent circuit of Figure 3(a) or the Norton (current source) equivalent circuit of Figure 3(b). The resistances are called internal resistances.\n",
        "> ![Fig3](https://github.com/UoA-Physics-Advanced-Lab/public-resources/blob/main/e203/f26103.png?raw=true)\n",
        ">\n",
        "> The “single circle” symbol represents an **ideal voltage source**. An “overlapping double circle” symbol represents an **ideal current source**. An ideal current source adjusts its terminal voltage to supply the same current regardless of the load (or impedance) across its terminals. This is a less intuitive concept than an ideal voltage source, but is useful for describing the properties of components such as transistors. Both symbols must be accompanied by an arrow showing the assumed direction of positive current flow from the source.\n",
        ">\n",
        "> Determine values for $V_\\mathrm{T}$, $R_\\mathrm{T}$, $I_\\mathrm{N}$, $R_\\mathrm{N}$ of the Thevenin and Norton sources that would best reproduce the data you plotted in procedure (5). Note: The rules for transforming between equivalent voltage and current sources are:\n",
        "> * The value of the internal resistance is the same for both (that is, $R_\\mathrm{T} = R_\\mathrm{N}$).\n",
        "> * The values of the ideal voltage and ideal current sources are related by Ohm’s Law (i.e $V_\\mathrm{T} = R_\\mathrm{T} I_\\mathrm{N}$).\n"
      ]
    },
    {
      "cell_type": "markdown",
      "metadata": {
        "id": "BSINohH2NNLQ"
      },
      "source": [
        "<font color='red'>They have different way to connect t is parallel and n is series. Give out the Rt = Rn, if there are connect with a same resistor, the voltage should be same. From Vt = RtIn, therefor I = In. So, In = Vt/Rt = 9.83653846e-06 Amps.</red>"
      ]
    },
    {
      "cell_type": "markdown",
      "metadata": {
        "id": "SEpfQ7EOO2wR"
      },
      "source": [
        "## Measuring Instrument Loading Effects\n",
        "\n",
        "Up till now we have assumed that the DMM has no effect on the voltages it was measuring. **This will only be true if it draws absolutely no current from the circuit it is connected to.** If current is drawn, the currents and voltages in the circuit we are measuring are altered, and our measurement will correspondingly be off.\n",
        "\n",
        "How can we avoid drawing *any* current from the circuit we are measuring? **The problem is, we can't.** We could only do this if the measuring apparatus presents an *infinite* input impedance. However, in real life, all voltage measuring devices have a *finite* input (or terminal) impedance (hence draw current - Ohm's law). So far in this experiment, component values have been chosen to make the effect of the DMM imperceptible, but you cannot always make that assumption. You will now learn how to take this effect into account, and in particular how to measure the input resistance of your voltmeter.\n",
        "\n",
        "The equivalent circuit of a voltmeter is shown in Figure 4, inside the dashed box. $R_\\mathrm{M}$ is the internal input resistance. Again, you cannot physically have access to it; it comes from the internal circuitry of the meter. The circle symbol labelled V represents an **ideal** galvanometer, which has *infinite* resistance, and which does not draw any current. It is placed in parallel with $R_\\mathrm{M}. $Thus, the resistance seen between the voltmeter terminals is just $R_\\mathrm{M}$ (check with the parallel resistor formula), and the voltage indicated by the meter is that developed across $R_\\mathrm{M}$. Note that a voltage will only appear across $R_\\mathrm{M}$ if a current flows through it (Ohm's law). That means we cannot avoid perturbing the circuit we are measuring. We can however try to minimize the effect, by having an input resistance as large as possible.\n",
        "\n",
        "![Fig4](https://github.com/UoA-Physics-Advanced-Lab/public-resources/blob/main/e203/f26104.png?raw=true)"
      ]
    },
    {
      "cell_type": "markdown",
      "metadata": {
        "id": "fP_3LpjFO2wS"
      },
      "source": [
        ">7\\. You will now use the DMM to measure its own input resistance $R_\\mathrm{M}$, as follows (refer to Figure 4 above).\n",
        ">\n",
        ">* Connect the voltmeter (DMM) between pins **g** and **e** of the circuit board.\n",
        ">* Then, first connect the power supply to the same pins and check that the DMM still reads 10 V. Adjust the power supply if necessary. This is the value of $V_\\mathrm{s}$. Record that value.\n",
        ">* Now connect the power supply between **g** and the left-hand end of resistors $R_\\mathrm{c}$ and $R_\\mathrm{d}$ in turn (i.e. to pins **c** then **d**). As pin **e** is wired to the *right-hand end* of those resistors, the DMM is now connected as shown in the circuit diagram of Figure 4. Record the values read by the meter in both cases. This is the value labelled $V_\\mathrm{M}$ in the diagram above.\n",
        ">\n",
        ">Notice how the circuit of Figure 4 is essentially a voltage divider as discussed in the introduction. Then, by the voltage division theorem (we assume here that resistor $R_\\mathrm{c}$ is in the circuit),\n",
        ">\n",
        ">$$ V_\\mathrm{M} = V_\\mathrm{s}\\, \\frac{R_\\mathrm{M}}{R_\\mathrm{M}+R_\\mathrm{c}}\\,.$$\n",
        ">\n",
        ">We can solve that equation for $R_\\mathrm{M}$,\n",
        ">\n",
        ">$$R_\\mathrm{M} = \\frac{V_\\mathrm{M}}{(V_\\mathrm{s}-V_\\mathrm{M})/R_\\mathrm{c}}= R_\\mathrm{c}\\, \\frac{V_\\mathrm{M}}{V_\\mathrm{s}-V_\\mathrm{M}}\\,.$$\n",
        ">\n",
        ">Using that equation and any of your two your measurements, you can now deduce the input resistance $R_\\mathrm{M}$ of the meter. Notice from the first equality above that this is essentially obtained by using the voltage drop observed in the series resistance $R_\\mathrm{c}$ to deduce the current drawn by the meter.\n",
        ">\n",
        ">You should expect to find the same value from your two measurements (if everything was perfect). However, an analysis of the above equation in terms of propagation of uncertainties (not shown here) reveals that the result is the most accurate when the series resistor ($R_\\mathrm{c}$ or $R_\\mathrm{d}$) is equal to $R_\\mathrm{M}$, which gives $V_\\mathrm{M} = V_\\mathrm{s}/2$. Of course, you do not know $R_\\mathrm{M}$ (yet), but out of your two measurements you should pick the one for which $V_\\mathrm{M}$ is the closest to $V_\\mathrm{s}/2$ and use that one to calculate the input resistance of the meter.\n",
        ">\n",
        ">Record all your measurements and show your calculation in the code and discussion box below. Clearly state which series resistance you are using as well as the value of $R_\\mathrm{M}$ you have obtained for the DMM.\n",
        ">\n"
      ]
    },
    {
      "cell_type": "code",
      "execution_count": 7,
      "metadata": {
        "collapsed": true,
        "id": "hWQxAwiGO2wS",
        "colab": {
          "base_uri": "https://localhost:8080/"
        },
        "outputId": "f88bee50-a543-421c-d356-90a1ac92032f"
      },
      "outputs": [
        {
          "output_type": "stream",
          "name": "stdout",
          "text": [
            "Rm_d: 10433398.821218075 ohms\n"
          ]
        }
      ],
      "source": [
        "Vs = 10.1\n",
        "Vm_c = 5.23\n",
        "Vm_d = 5.01\n",
        "Rm_d=Rd * (Vm_d) / (Vs - Vm_d)\n",
        "print('Rm_d:', Rm_d, 'ohms')"
      ]
    },
    {
      "cell_type": "markdown",
      "metadata": {
        "id": "HBG9Cx0VO2wS"
      },
      "source": [
        "**Question:** Does your observed value of the resistance of the DMM agree with what you expect? Why?"
      ]
    },
    {
      "cell_type": "markdown",
      "metadata": {
        "id": "sTgxfFMDtIOo"
      },
      "source": [
        "<font color='red'>The result of Rm_d and Rm_c give out is near to the value of Rd and Rc. The Rm_d is more near to the value of Rd, because the Vm = Vs/2 is the most ideal value, and Vm_d = 5.01, is not that large different with Vs/2 = 5.13.</font>"
      ]
    },
    {
      "cell_type": "markdown",
      "metadata": {
        "id": "SqGYX2YavMka"
      },
      "source": [
        "### Digital oscilloscope\n",
        "\n",
        "We will now be applying the same technique to measure the input terminal resistance of another measuring device, namely a digital oscilloscope. The model we will be using is a Tektronix TBS 1052B shown in the photograph below.\n",
        "\n",
        "<img src=\"https://github.com/UoA-Physics-Advanced-Lab/public-resources/blob/main/e203/f203-oscillo_tbs1052b.jpg?raw=true\" width=\"80%\" />\n",
        "\n",
        "An oscilloscope is a very versatile lab instrument, and you will probably need to use one for some of your other experiments. You can perform quite complex measurements with an oscilloscope (and being digitial, the measured data can also be saved to be processed separately) but in essence it simply displays input voltage as a function of time (and in particular you can use it to measure DC voltages). In the same way as the DMM, and for any other voltage measuring device, measurements taken by an oscilloscope are affected by input resistance and it is important to know its magnitude and to understand the implications.\n",
        "\n",
        "**If this is the first time you are using an oscilloscope,** please watch the following two videos (about 25 minutes each, prepared and presented by Mark Conway), to learn and understand what it does and how to use it:\n",
        "* part 1, introduction, including the concepts of time base and triggering [https://www.youtube.com/watch?v=cnPVztlivV4]\n",
        "* part 2, specificities of the digital oscilloscope [https://www.youtube.com/watch?v=1-xbyn2KR1E]"
      ]
    },
    {
      "cell_type": "markdown",
      "source": [],
      "metadata": {
        "id": "EnK_iH5bY8Y0"
      }
    },
    {
      "cell_type": "markdown",
      "metadata": {
        "id": "qEcT216AO2wS"
      },
      "source": [
        ">8\\. You will use the digital oscilloscope to measure its own input (terminal) resistance $R_\\mathrm{M}$ in the same way as you did for the DMM in procedure (7). Replace the meter in Figure (4) with the oscilloscope. Set the oscilloscope trigger mode to “**AUTO**” so that a line-trace appears on the screen. Set the channel 1 vertical scale to **2 V/Div** and make sure, in the channel Menu, the coupling is set to to measure **DC** and the 'PROBE' attenuation is set to '**x1**'. Then use the vertical displacement of the line-trace from the zero position to measure voltage. Repeat the measurements in procedure (7) to estimate the best value of the oscilloscope input resistance. Record these measurements and calculate and print the value of the internal resistance. Provide some discussions of your procedure and results."
      ]
    },
    {
      "cell_type": "code",
      "execution_count": 8,
      "metadata": {
        "collapsed": true,
        "id": "dYx_YpXnO2wS",
        "colab": {
          "base_uri": "https://localhost:8080/"
        },
        "outputId": "710ad84d-ede6-4f2f-ff2a-1c9e3cbdcb27"
      },
      "outputs": [
        {
          "output_type": "stream",
          "name": "stdout",
          "text": [
            "Rm_c: 1020000.0 ohms\n"
          ]
        }
      ],
      "source": [
        "Vs = 10.1\n",
        "Vm_c = 5.05\n",
        "Vm_d = 1.12\n",
        "Rm_c = (Rc * Vm_c) / (Vs - Vm_c)\n",
        "print('Rm_c:', Rm_c, 'ohms')"
      ]
    },
    {
      "cell_type": "markdown",
      "metadata": {
        "id": "hU2hcJ7x5tlx"
      },
      "source": [
        "<font color='red'>Overall, we were able to measure its own input resistance in a similar fashion using an oscilloscope. But there will have some errors.</font>"
      ]
    },
    {
      "cell_type": "markdown",
      "metadata": {
        "id": "eZCr4vBWO2wT"
      },
      "source": [
        "### Learn to take into account input resistance\n",
        "\n",
        "As a final note for this part, notice that once your know the input resistance of your meter, you can correct your measurements $V_\\mathrm{M}$ to deduce the real, unperturbed, voltage present across your circuit, $V_\\mathrm{s}$. In the following procedure you will use this knowledge to try to understand and reconcile measurements performed by two different instruments.\n",
        "\n",
        ">9\\. Set up the circuit of Figure 5 using resistors $R_\\mathrm{c}$ and $R_5$ and record the value of $V_\\mathrm{o}$ as measured by the DMM and then by the oscilloscope. Clearly state these values in the code or discussion box below. Note: you are performing the same measurement on the same circuit twice, but with two different instruments.\n",
        ">    \n",
        ">![](https://github.com/UoA-Physics-Advanced-Lab/public-resources/blob/main/e203/f26105.png?raw=true)\n",
        ">\n",
        ">**Question:** If you find your two measurements to be different, explain the reason(s) for this situation.\n"
      ]
    },
    {
      "cell_type": "code",
      "execution_count": 9,
      "metadata": {
        "collapsed": true,
        "id": "Do7MSWt4O2wT",
        "colab": {
          "base_uri": "https://localhost:8080/"
        },
        "outputId": "2e6a77dc-53ae-417b-a27f-3d4c7ef23528"
      },
      "outputs": [
        {
          "output_type": "stream",
          "name": "stdout",
          "text": [
            "I_dmm: 4.7060407486912965e-07 Amps\n",
            "I_osc: 2.1176470588235296e-06 Amps\n"
          ]
        }
      ],
      "source": [
        "Vcg = 10.1\n",
        "Vo_dmm = 4.91\n",
        "Vo_osc = 2.16\n",
        "I_dmm = (Vo_dmm / Rm_d)\n",
        "I_osc = (Vo_osc / Rm_c)\n",
        "print('I_dmm:', I_dmm, 'Amps')\n",
        "print('I_osc:', I_osc, 'Amps')"
      ]
    },
    {
      "cell_type": "markdown",
      "metadata": {
        "id": "sC7pX8xjT7K2"
      },
      "source": [
        "<font color='red'>The internal resistance will be different, then the current is different, the higher internal resistance will have lower current. So V will be different. </font>"
      ]
    },
    {
      "cell_type": "markdown",
      "metadata": {
        "id": "JuAmNXbvO2wT"
      },
      "source": [
        ">10\\. Using your knowledge of all the circuit components, and in particular your measured values of the input resistance of the DMM and of the oscilloscope, derive theoretically, using Ohm's law and the parallel resistors formula presented in the introduction, what you should expect to be measuring in the procedure above,\n",
        "> * under open circuit conditions (nothing connected to the source);\n",
        "> * with the DMM connected\n",
        "> * with the oscilloscope connected.\n",
        ">\n",
        ">Compare your calculated values with ones measured in procedure (9). Show your working and your results, in code and/or text.\n",
        ">\n",
        ">**Question:** Do these agree? Discuss any agreements or discrepancies. What makes you say they do (or do not) agree?\n",
        "\n",
        "<font color='red'>No inconsistency is greater. Connect into the circuit will have a bigger error than direct connect with the supply power."
      ]
    },
    {
      "cell_type": "code",
      "execution_count": 10,
      "metadata": {
        "collapsed": true,
        "id": "UNS4y_52O2wT",
        "colab": {
          "base_uri": "https://localhost:8080/"
        },
        "outputId": "dd2310fa-d5d1-4368-d770-99d81fa7fc34"
      },
      "outputs": [
        {
          "output_type": "stream",
          "name": "stdout",
          "text": [
            "V_dmm= 4.81025706332238 Volts\n",
            "V_osc= 3.3448051948051947 Volts\n"
          ]
        }
      ],
      "source": [
        "R_dmm = 1 / ((1 / R5) + (1 / Rm_d))\n",
        "R_osc = 1/ ((1 / R5) + (1 / Rm_c))\n",
        "V_dmm = Vcg * (R_dmm / (R5 + R_dmm))\n",
        "V_osc = Vcg * (R_osc / (R5 + R_osc))\n",
        "print('V_dmm=', V_dmm, 'Volts')\n",
        "print('V_osc=', V_osc, 'Volts')"
      ]
    },
    {
      "cell_type": "markdown",
      "metadata": {
        "id": "sbxOR6bHVYOo"
      },
      "source": [
        "<font color='red'>For the V_dmm values I got 4.81V and 4.91, there are not a big difference. But the V_osc values are 3.34V and 2.16, that have a large different.</font>"
      ]
    },
    {
      "cell_type": "markdown",
      "metadata": {
        "id": "oLrk_BwNO2wU"
      },
      "source": [
        "## Superposition of AC and DC\n",
        "\n",
        "We will now combine the DC power supply we have been using throughout with a source of alternating (AC) voltage. This will be provided by the Synthesized Function Generator shown in the photograph below.\n",
        "\n",
        "<br />\n",
        "\n",
        "![](https://github.com/UoA-Physics-Advanced-Lab/public-resources/blob/main/e203/f203-synth_func_gen.jpg?raw=true)\n",
        "\n",
        "<br />\n",
        "\n",
        "We will start by setting up the generator to **generate a 1 V peak-to-peak triangular waveform at 1 kHz frequency**. Turn on the generator. Dial the frequency with the keypad, finishing with one of the dark grey unit key. The 'WAVE' button on the top right of the display selects the waveform shape. Press it until you see a triangle shape symbol at the bottom of the display (it is quite small). To adjust the amplitude, it is easier to vizualize the signal you are generating on the oscilloscope. Connect the output of the generator directly to the oscilloscope (using one of the BNC cable provided). Once you get a trace visible (the settings for procedure (11) should help) then adjust the amplitude of your signal with the right knob of the generator (labelled 'AMPL') until you get 1 V peak-to-peak as measured on the oscilloscope (you can pull or push the AMPL knob to access two different scales if necessary). Make sure the 'OFFSET' knob is pushed in, so as not to add any DC background. You are now ready to proceed with your last task.\n"
      ]
    },
    {
      "cell_type": "markdown",
      "metadata": {
        "id": "BkusAljKfrRY"
      },
      "source": [
        ">11\\. Construct the circuit illustrated in Figure 6 by connecting your two voltage sources to the correct pins on the circuit board, as indicated. The 'Signal source' is the AC signal generator as set up above, while the 'PS' source is the usual DC power supply (set it to 10 V as before). This circuit should sum the two voltage sources in some proportions.\n",
        ">\n",
        ">![](https://github.com/UoA-Physics-Advanced-Lab/public-resources/blob/main/e203/f26106.png?raw=true)\n",
        ">\n",
        ">Observe the output of the circuit $Y_1$ (between pins **m** and **n**) with Channel 1 of the oscilloscope. Make sure **n** is connected to the black part of the connector, which is the ground. Use the following initial settings to adjust the oscilloscope:\n",
        ">\n",
        ">|                    |                                            |\n",
        ">|--------------------|--------------------------------------------|\n",
        ">| AC-Gnd-DC coupling | DC (channel menu; also read below)         |\n",
        ">| Probe attenuation  | x 1 (channel menu)                         |\n",
        ">| Vertical scale     | 1 V/Div                                    |\n",
        ">| Vertical position  | Zero level 1 div above bottom of graticule |\n",
        ">| Time Base          | 0.5  ms/Div                                |\n",
        ">\n",
        ">Attempt to measure the amplitudes of both AC and DC components of the output signal with the sensitivity set at 1 V/Div. Initially you might only barely see the presence of the AC component. To see it better, increase the sensitivity to 500 mV/Div and observe the trace disappear off the top of the screen. Now switch the oscilloscope **coupling mode** to AC. To do this, press the \"CH1\" button. A menu appears on the right of the display. Push the button next to \"Coupling\" and select \"AC\". This removes (substracts) the DC component of the observed voltage so that the AC component is now centered vertically around 0 V and may now be measured quite easily by increasing the sensitivity to e.g. 10 mV/Div.\n",
        ">\n",
        ">Record the measured amplitude of the AC (peak-to-peak) and DC components below. Note, if you want you can save the data measured by the oscilloscope on a USB memory key, either as a screenshot or as actual trace data. This is achieved by navigating the menu that shows up when pressing the Save/Recall button."
      ]
    },
    {
      "cell_type": "markdown",
      "metadata": {
        "id": "3QzO4Q4CnNSc"
      },
      "source": [
        "<font color='red'>record your measurements here</font>"
      ]
    },
    {
      "cell_type": "code",
      "execution_count": 11,
      "metadata": {
        "collapsed": true,
        "id": "GnvmZFivO2wU",
        "colab": {
          "base_uri": "https://localhost:8080/"
        },
        "outputId": "a2e21b4b-83ad-4ffa-f618-f72f49482ed3"
      },
      "outputs": [
        {
          "output_type": "stream",
          "name": "stdout",
          "text": [
            "V_dc: 5.1 Volts\n",
            "V_ac: 0.15 Volts\n"
          ]
        }
      ],
      "source": [
        "V_dc = 5.1\n",
        "V_ac = 0.15\n",
        "print('V_dc:', V_dc, 'Volts')\n",
        "print('V_ac:', V_ac, 'Volts')"
      ]
    },
    {
      "cell_type": "markdown",
      "metadata": {
        "id": "GJpW5TVDO2wU"
      },
      "source": [
        " **Question:** From the diagram of Figure 6, work out the amplitudes of the output AC and DC components that are expected theoretically. Do your results agree with your measurements? Include derivation, results, and discussion below.\n",
        "\n",
        "Hint: Use the superposition principle. Calculate the output of the circuit by considering only one source at a time, with the other replaced by a short-circuit. The actual output will be the sum of the two outputs you get for the two separate sources.\n"
      ]
    },
    {
      "cell_type": "markdown",
      "metadata": {
        "id": "sVthAFVooSq5"
      },
      "source": [
        "<font color='red'>insert your derivation, results, and discussion here</font>"
      ]
    },
    {
      "cell_type": "markdown",
      "source": [
        "There are not a big difference between the V_dc values and V_dc expected value, But the V_ac is different. Consider the ohm's law, I = U/R for DC current. Consider the superposition theorem on AC one.\n",
        "Calculate:\n",
        "V_dc = 10 * 1000 / (1000 + 1000) = 5V\n",
        "V_ac = 1 * (1 / (1/1000 + 1/1000)) / ((1/(1/1000 + 1/1000)) + 10000)  = 0.05V"
      ],
      "metadata": {
        "id": "y346MNHMYcKG"
      }
    },
    {
      "cell_type": "markdown",
      "metadata": {
        "id": "Xe6Y3Tr-O2wU"
      },
      "source": [
        "## Conclusion\n",
        "\n",
        "<font color='red'></font>\n",
        "\n",
        "*   Learning Ohm's Law and calculate\n",
        "*   Drawing diagram\n",
        "*   Leanring about how to use DMM and oscilloscope\n",
        "*   Learing different between AC and DC, and get more knowledge about them\n",
        "*   Learing how to read the nominal value resistor\n",
        "*   In real life always internal resistance in real life, so we need to test the internal resistance of the voltmeter. Therefore, can get more accurate values.\n",
        "*   Do more time can decrease the errors and uncertainties.\n",
        "\n",
        "\n",
        "\n",
        "\n",
        "\n",
        "\n"
      ]
    }
  ],
  "metadata": {
    "anaconda-cloud": {},
    "colab": {
      "provenance": [],
      "include_colab_link": true
    },
    "kernelspec": {
      "display_name": "Python 3 (ipykernel)",
      "language": "python",
      "name": "python3"
    },
    "language_info": {
      "codemirror_mode": {
        "name": "ipython",
        "version": 3
      },
      "file_extension": ".py",
      "mimetype": "text/x-python",
      "name": "python",
      "nbconvert_exporter": "python",
      "pygments_lexer": "ipython3",
      "version": "3.10.2"
    }
  },
  "nbformat": 4,
  "nbformat_minor": 0
}